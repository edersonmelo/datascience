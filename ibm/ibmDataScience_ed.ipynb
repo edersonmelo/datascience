{
  "nbformat": 4,
  "nbformat_minor": 0,
  "metadata": {
    "colab": {
      "provenance": []
    },
    "kernelspec": {
      "name": "python3",
      "display_name": "Python 3"
    },
    "language_info": {
      "name": "python"
    }
  },
  "cells": [
    {
      "cell_type": "code",
      "execution_count": 5,
      "metadata": {
        "id": "zfyVhFeLuDEr"
      },
      "outputs": [],
      "source": [
        "#Data Science Notebook -ed"
      ]
    },
    {
      "cell_type": "markdown",
      "source": [
        "## Introduction\n",
        "\n",
        "This notebook explores various aspects of data science including languages, libraries, and tools. It also provides examples of basic arithmetic operations and their applications in data science.\n"
      ],
      "metadata": {
        "id": "4PgNH064vMkI"
      }
    },
    {
      "cell_type": "markdown",
      "source": [
        "## Data Science Languages\n",
        "\n",
        "Here are some popular programming languages used in data science:\n",
        "\n",
        "- Python\n",
        "- R\n",
        "- SQL\n",
        "- Julia\n",
        "- Scala\n"
      ],
      "metadata": {
        "id": "1wXh6rWivZ2w"
      }
    },
    {
      "cell_type": "markdown",
      "source": [
        "## Data Science Libraries\n",
        "\n",
        "The following libraries are commonly used in data science:\n",
        "\n",
        "- **Python**:\n",
        "  - Pandas\n",
        "  - NumPy\n",
        "  - Matplotlib\n",
        "  - SciPy\n",
        "  - Scikit-learn\n",
        "\n",
        "- **R**:\n",
        "  - ggplot2\n",
        "  - dplyr\n",
        "  - tidyr\n",
        "  - caret\n",
        "  - shiny\n"
      ],
      "metadata": {
        "id": "C2X6bZ0kvjdW"
      }
    },
    {
      "cell_type": "markdown",
      "source": [
        "## Data Science Tools\n",
        "\n",
        "| Tool           | Description                         |\n",
        "|----------------|-------------------------------------|\n",
        "| Jupyter Notebook | An open-source web application for creating and sharing documents with live code, equations, visualizations, and narrative text. |\n",
        "| RStudio         | An integrated development environment (IDE) for R. |\n",
        "| GitHub          | A platform for version control and collaboration. |\n",
        "| Tableau         | A data visualization tool.           |\n",
        "| Apache Spark    | A unified analytics engine for large-scale data processing. |\n"
      ],
      "metadata": {
        "id": "NuHAleF_vtcM"
      }
    },
    {
      "cell_type": "markdown",
      "source": [
        "## Examples of Arithmetic Expressions\n",
        "\n",
        "Here are some examples of basic arithmetic expressions:\n",
        "\n",
        "- Addition: `5 + 3` results in `8`\n",
        "- Subtraction: `10 - 4` results in `6`\n",
        "- Multiplication: `7 * 2` results in `14`\n",
        "- Division: `20 / 5` results in `4`\n"
      ],
      "metadata": {
        "id": "avCv8wtgvycv"
      }
    },
    {
      "cell_type": "markdown",
      "source": [
        "# Code Cell: Multiply and Add Numbers\n",
        "\n",
        "# Define numbers\n",
        "a = 5\n",
        "b = 10\n",
        "c = 3\n",
        "\n",
        "# Perform operations\n",
        "product = a * b\n",
        "sum_result = product + c\n",
        "\n",
        "product, sum_result\n"
      ],
      "metadata": {
        "id": "ciI3hcI7v8D_"
      }
    },
    {
      "cell_type": "markdown",
      "source": [
        "# Code Cell: Convert Minutes into Hours\n",
        "\n",
        "# Define minutes\n",
        "minutes = 135\n",
        "\n",
        "# Convert to hours\n",
        "hours = minutes / 60\n",
        "\n",
        "hours\n"
      ],
      "metadata": {
        "id": "x-UsL2WCwCsg"
      }
    },
    {
      "cell_type": "markdown",
      "source": [
        "## Objectives\n",
        "\n",
        "1. Understand and list popular data science languages.\n",
        "2. Explore commonly used libraries in data science.\n",
        "3. Learn about various data science tools and their uses.\n",
        "4. Demonstrate basic arithmetic operations in code.\n",
        "5. Implement a conversion function for time units.\n"
      ],
      "metadata": {
        "id": "GP45epsVwJGJ"
      }
    },
    {
      "cell_type": "markdown",
      "source": [
        "## Author\n",
        "\n",
        "This notebook was created by [Ederson Melo].\n"
      ],
      "metadata": {
        "id": "HqfFH05SwNv0"
      }
    }
  ]
}